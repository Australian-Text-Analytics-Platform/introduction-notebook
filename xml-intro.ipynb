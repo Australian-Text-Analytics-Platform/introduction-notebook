{
 "cells": [
  {
   "cell_type": "markdown",
   "id": "d0aad067-f636-4a5d-a1fe-f23452d73739",
   "metadata": {},
   "source": [
    "# Reading and parsing XML files"
   ]
  },
  {
   "cell_type": "markdown",
   "id": "fc393b60-3917-4b70-99b7-a0364ea65270",
   "metadata": {},
   "source": [
    "Import code libraries we need. Just one for now."
   ]
  },
  {
   "cell_type": "code",
   "execution_count": 7,
   "id": "1f48041b-5830-4437-9d57-a7062232fbe4",
   "metadata": {
    "tags": []
   },
   "outputs": [],
   "source": [
    "import xml.etree.cElementTree as et"
   ]
  },
  {
   "cell_type": "markdown",
   "id": "c5d94764-ddbd-474f-bf0f-cd4e79641d9d",
   "metadata": {
    "tags": []
   },
   "source": [
    "Read the file contents and get the root element"
   ]
  },
  {
   "cell_type": "code",
   "execution_count": 8,
   "id": "1ae54c0e-a262-4277-a294-fd2c1de401c0",
   "metadata": {
    "tags": []
   },
   "outputs": [
    {
     "name": "stdout",
     "output_type": "stream",
     "text": [
      "<Element 'person' at 0x7f37a7365300>\n"
     ]
    }
   ],
   "source": [
    "tree=et.parse('person.xml')\n",
    "root=tree.getroot()\n",
    "print(root)"
   ]
  },
  {
   "cell_type": "markdown",
   "id": "3c8c611a-699b-47a2-a03c-fefe7abfd352",
   "metadata": {},
   "source": [
    "Get the direct children of the root that are \"name\" elements"
   ]
  },
  {
   "cell_type": "code",
   "execution_count": 12,
   "id": "2e62e240-830c-4f30-90cc-5717b9f51643",
   "metadata": {
    "tags": []
   },
   "outputs": [
    {
     "data": {
      "text/plain": [
       "'person'"
      ]
     },
     "execution_count": 12,
     "metadata": {},
     "output_type": "execute_result"
    }
   ],
   "source": [
    "root.children(\"name\")"
   ]
  },
  {
   "cell_type": "markdown",
   "id": "c4442706-b24f-4763-8831-e849bc21f2de",
   "metadata": {},
   "source": [
    "Get all the children of the root"
   ]
  },
  {
   "cell_type": "code",
   "execution_count": 10,
   "id": "0548afea-87ee-4d46-aa54-60327ba30801",
   "metadata": {
    "tags": []
   },
   "outputs": [
    {
     "name": "stdout",
     "output_type": "stream",
     "text": [
      "name Ben Foley\n",
      "beardy Yes\n"
     ]
    }
   ],
   "source": [
    "for child in root:\n",
    "    print(child.tag, child.text)"
   ]
  },
  {
   "cell_type": "markdown",
   "id": "c7233269-afba-4b46-ad06-0d77212e45d6",
   "metadata": {},
   "source": [
    "Here's another way to get the names..."
   ]
  },
  {
   "cell_type": "code",
   "execution_count": 12,
   "id": "d9eff3f9-4406-4d68-84b8-b2f21b882a36",
   "metadata": {
    "tags": []
   },
   "outputs": [
    {
     "name": "stdout",
     "output_type": "stream",
     "text": [
      "[<Element 'name' at 0x7f37a7364f90>]\n"
     ]
    }
   ],
   "source": [
    "names = root.findall(\"name\")\n",
    "print(names)"
   ]
  },
  {
   "cell_type": "code",
   "execution_count": 13,
   "id": "a0dd7105-5eeb-4c77-b0a3-b87b4232268a",
   "metadata": {
    "tags": []
   },
   "outputs": [
    {
     "name": "stdout",
     "output_type": "stream",
     "text": [
      "Ben Foley\n"
     ]
    }
   ],
   "source": [
    "for name in names: \n",
    "    print(name.text)"
   ]
  },
  {
   "cell_type": "markdown",
   "id": "eba6c23c-4afe-4c12-ad21-be0daaf6f0ac",
   "metadata": {
    "tags": []
   },
   "source": [
    "# Some different data"
   ]
  },
  {
   "cell_type": "code",
   "execution_count": 31,
   "id": "296a2326-9fa5-48a2-a90e-ac49bcb27612",
   "metadata": {
    "tags": []
   },
   "outputs": [
    {
     "name": "stdout",
     "output_type": "stream",
     "text": [
      "<Element 'bookstore' at 0x7fd6d47458f0>\n",
      "[<Element 'book' at 0x7fd6d4745940>, <Element 'book' at 0x7fd6d4745c60>, <Element 'book' at 0x7fd6d4745df0>]\n",
      "Everyday Italian\n",
      "Harry Potter\n",
      "Learning XML\n"
     ]
    }
   ],
   "source": [
    "tree=et.parse('book.xml')\n",
    "root=tree.getroot()\n",
    "print(root)\n",
    "books = root.findall(\"book\")\n",
    "print(books)\n",
    "\n",
    "for book in books:\n",
    "    title = book.find(\"title\").text\n",
    "    print(title)"
   ]
  },
  {
   "cell_type": "markdown",
   "id": "3928610d-98e7-4431-ace1-92881bdf2f13",
   "metadata": {},
   "source": [
    "The BeautifulSoup library is a bit easier to use when getting nested data."
   ]
  },
  {
   "cell_type": "code",
   "execution_count": 52,
   "id": "cd9bd235-1409-41d7-9af5-bb02866dd329",
   "metadata": {
    "tags": []
   },
   "outputs": [
    {
     "name": "stdout",
     "output_type": "stream",
     "text": [
      "Requirement already satisfied: beautifulsoup4 in /srv/conda/envs/notebook/lib/python3.10/site-packages (4.12.2)\n",
      "Requirement already satisfied: soupsieve>1.2 in /srv/conda/envs/notebook/lib/python3.10/site-packages (from beautifulsoup4) (2.5)\n",
      "Collecting lxml\n",
      "  Obtaining dependency information for lxml from https://files.pythonhosted.org/packages/25/5c/979167df4ca5a1c308105bb1590412c54bd1b0baa1883212f39cb42d4fcd/lxml-5.1.0-cp310-cp310-manylinux_2_17_x86_64.manylinux2014_x86_64.whl.metadata\n",
      "  Downloading lxml-5.1.0-cp310-cp310-manylinux_2_17_x86_64.manylinux2014_x86_64.whl.metadata (3.5 kB)\n",
      "Downloading lxml-5.1.0-cp310-cp310-manylinux_2_17_x86_64.manylinux2014_x86_64.whl (8.0 MB)\n",
      "\u001b[2K   \u001b[90m━━━━━━━━━━━━━━━━━━━━━━━━━━━━━━━━━━━━━━━━\u001b[0m \u001b[32m8.0/8.0 MB\u001b[0m \u001b[31m32.1 MB/s\u001b[0m eta \u001b[36m0:00:00\u001b[0m00:01\u001b[0m00:01\u001b[0m\n",
      "\u001b[?25hInstalling collected packages: lxml\n",
      "Successfully installed lxml-5.1.0\n"
     ]
    }
   ],
   "source": [
    "!pip install beautifulsoup4\n",
    "!pip install lxml"
   ]
  },
  {
   "cell_type": "markdown",
   "id": "9ca4d454-9e84-470b-bf1c-e2c2d458e405",
   "metadata": {},
   "source": [
    "Now, gotta restart the Kernel 🤷‍♂️ and then can run the cells from here on."
   ]
  },
  {
   "cell_type": "code",
   "execution_count": 3,
   "id": "cdec844d-387f-452a-b0c7-3ebc876a233f",
   "metadata": {
    "tags": []
   },
   "outputs": [],
   "source": [
    "from bs4 import BeautifulSoup"
   ]
  },
  {
   "cell_type": "code",
   "execution_count": 4,
   "id": "64496a9c-03bc-4562-ad1d-38f4d79feffc",
   "metadata": {
    "tags": []
   },
   "outputs": [
    {
     "name": "stdout",
     "output_type": "stream",
     "text": [
      "<?xml version=\"1.0\" encoding=\"UTF-8\"?>\n",
      "<bookstore>\n",
      "  <book category=\"cooking\">\n",
      "    <title lang=\"en\">Everyday Italian</title>\n",
      "    <author>Giada De Laurentiis</author>\n",
      "    <year>2005</year>\n",
      "    <price>30.00</price>\n",
      "  </book>\n",
      "  <book category=\"children\">\n",
      "    <title lang=\"en\">Harry Potter</title>\n",
      "    <author>J K. Rowling</author>\n",
      "    <year>2005</year>\n",
      "    <price>29.99</price>\n",
      "  </book>\n",
      "  <book category=\"web\">\n",
      "    <title lang=\"en\">Learning XML</title>\n",
      "    <author>Erik T. Ray</author>\n",
      "    <year>2003</year>\n",
      "    <price>39.95</price>\n",
      "  </book>\n",
      "</bookstore>\n",
      "\n"
     ]
    }
   ],
   "source": [
    "with open('book.xml', 'r') as f:\n",
    "    file = f.read()\n",
    "    print(file)\n",
    "\n",
    "# 'xml' is the parser used. For html files, which BeautifulSoup is typically used for, it would be 'html.parser'.\n",
    "soup = BeautifulSoup(file, features=\"xml\")\n",
    "\n"
   ]
  },
  {
   "cell_type": "code",
   "execution_count": 19,
   "id": "0e30f831-f5c2-4ebb-a8a5-468fc9b755c7",
   "metadata": {
    "tags": []
   },
   "outputs": [
    {
     "name": "stdout",
     "output_type": "stream",
     "text": [
      "Everyday Italian\n",
      "Harry Potter\n",
      "Learning XML\n"
     ]
    }
   ],
   "source": [
    "titles = soup.find_all('title')\n",
    "titles\n",
    "for title in titles:\n",
    "    print(title.text)"
   ]
  }
 ],
 "metadata": {
  "kernelspec": {
   "display_name": "Python 3 (ipykernel)",
   "language": "python",
   "name": "python3"
  },
  "language_info": {
   "codemirror_mode": {
    "name": "ipython",
    "version": 3
   },
   "file_extension": ".py",
   "mimetype": "text/x-python",
   "name": "python",
   "nbconvert_exporter": "python",
   "pygments_lexer": "ipython3",
   "version": "3.10.12"
  }
 },
 "nbformat": 4,
 "nbformat_minor": 5
}
